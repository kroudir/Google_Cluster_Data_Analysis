{
 "cells": [
  {
   "cell_type": "markdown",
   "metadata": {},
   "source": [
    "# Performance Analysis\n",
    "\n",
    "In this part we will be comparing between Spark DataFrame, Pandas DataFrame et Dask DataFrame in term of performance of doing operations such as Selecting, Filtering and Joining.\n",
    "\n",
    "but first we will present the two tables that we will use and the question we are trying to answer, answer the question using Spark Data Frames and then do the comparaison\n",
    "\n",
    "## Data Presentation\n",
    "In this part of the analysis, we will be using the tasks usage table, and tasks events table\n",
    "### Tasks events\n",
    "\n",
    "The task events table contains the following fields:\n",
    "1. timestamp\n",
    "2. missing info\n",
    "3. job ID\n",
    "4. task index - withinthejob\n",
    "5. machineID\n",
    "6. event type\n",
    "7. user name\n",
    "8. scheduling class\n",
    "9. priority\n",
    "10. resource request for CPU cores\n",
    "11. resource request for RAM\n",
    "12. resource request for local disk space \n",
    "13. different-machine constraint\n",
    "\n",
    "### Tasks usage \n",
    "The task resource usage table contains these fields: \n",
    "1. starttime - of the measurement period\n",
    "2. endtime of the measurement period\n",
    "3. jobID\n",
    "4. taskindex\n",
    "5. machineID\n",
    "6. mean CPU usage rate\n",
    "7. canonical memory usage\n",
    "8. assigned memory usage\n",
    "9. unmapped page cache memory usage \n",
    "10. total page cache memory usage\n",
    "11. maximum memory usage\n",
    "12. mean disk I/O time\n",
    "13. mean local disk space used\n",
    "14. maximum CPU usage\n",
    "15. maximum disk IO time\n",
    "16. cycles per instruction (CPI)\n",
    "17. memory accesses per instruction (MAI)\n",
    "18. sample portion\n",
    "19. aggregation type\n",
    "\n",
    "> For the coming part, we will be using 50 files for each table from 0000 to 00009 "
   ]
  },
  {
   "cell_type": "code",
   "execution_count": 1,
   "metadata": {},
   "outputs": [],
   "source": [
    "#Importing libraries used in this project\n",
    "import sys,timeit\n",
    "\n",
    "from pyspark import SparkContext\n",
    "from pyspark.sql import SQLContext, Row, SparkSession\n",
    "from pyspark.sql.types import StructType, StructField, IntegerType, StringType, TimestampType, FloatType, LongType\n",
    "import pyspark.sql.functions as F\n",
    "\n",
    "\n",
    "import matplotlib.pyplot as plt\n",
    "import pandas as pd\n",
    "import seaborn as sns\n",
    "import numpy as np"
   ]
  },
  {
   "cell_type": "code",
   "execution_count": 2,
   "metadata": {},
   "outputs": [],
   "source": [
    "#Setting the visualisations theme\n",
    "sns.set_theme(style=\"whitegrid\")\n",
    "sns.set(rc={'figure.figsize':(11.7,8.27)})"
   ]
  },
  {
   "cell_type": "code",
   "execution_count": 3,
   "metadata": {},
   "outputs": [],
   "source": [
    "#Create a spark context object with all the local available CPUs\n",
    "sc = SparkContext(\"local[*]\")\n",
    "sc.setLogLevel(\"ERROR\")"
   ]
  },
  {
   "cell_type": "code",
   "execution_count": 4,
   "metadata": {},
   "outputs": [],
   "source": [
    "#Create a spark session\n",
    "spark = SparkSession.builder \\\n",
    "                .master(\"local\") \\\n",
    "                .appName(\"tasks-events-analysis\") \\\n",
    "                .getOrCreate()"
   ]
  },
  {
   "cell_type": "code",
   "execution_count": 5,
   "metadata": {},
   "outputs": [],
   "source": [
    "# 1. Task Events DataFrame Structure\n",
    "schema_task_events = StructType([\n",
    "    StructField(\"timestamp\", LongType(), True),\n",
    "    StructField(\"missing_info\", StringType(), True),\n",
    "    StructField(\"job_id\", LongType(), True),\n",
    "    StructField(\"task_index_job\", IntegerType(), True),\n",
    "    StructField(\"machine_id\", LongType(), True),\n",
    "    StructField(\"event_type\", IntegerType(), True),\n",
    "    StructField(\"username\", StringType(), True),\n",
    "    StructField(\"scheduling_class\", IntegerType(), True),\n",
    "    StructField(\"priority\", IntegerType(), True),\n",
    "    StructField(\"cpu_request\", FloatType(), True),\n",
    "    StructField(\"memory_request\", FloatType(), True),\n",
    "    StructField(\"disk_request\", FloatType(), True),\n",
    "    StructField(\"machine_restriction\", IntegerType(), True)])\n",
    "\n",
    "# 2. Task Usage DataFrame Structure\n",
    "schema_task_usage = StructType([\n",
    "    StructField(\"start_time\", LongType(), True),\n",
    "    StructField(\"end_time\", StringType(), True),\n",
    "    StructField(\"job_id\", LongType(), True),\n",
    "    StructField(\"task_index_job\", IntegerType(), True),\n",
    "    StructField(\"machine_id\", LongType(), True),\n",
    "    StructField(\"cpu_rate\", IntegerType(), True),\n",
    "    StructField(\"canonial_memory\", StringType(), True),\n",
    "    StructField(\"assigned_memory\", IntegerType(), True),\n",
    "    StructField(\"unmapped_page_cache\", IntegerType(), True),\n",
    "    StructField(\"total_page_cache\", FloatType(), True),\n",
    "    StructField(\"max_memory_usage\", FloatType(), True),\n",
    "    StructField(\"io_time\", FloatType(), True),\n",
    "    StructField(\"local_disk_usage\", FloatType(), True),\n",
    "    StructField(\"max_disk_usage\", FloatType(), True),\n",
    "    StructField(\"max_io_time\", FloatType(), True),\n",
    "    StructField(\"cycle_per_inst\", FloatType(), True),\n",
    "    StructField(\"memory_access\", FloatType(), True),\n",
    "    StructField(\"sample_portion\", FloatType(), True),\n",
    "    StructField(\"agg_type\", FloatType(), True),\n",
    "    StructField(\"cpu_usage\", FloatType(), True)])"
   ]
  },
  {
   "cell_type": "code",
   "execution_count": 6,
   "metadata": {},
   "outputs": [],
   "source": [
    "#The path to the data file\n",
    "path_task_event = \"../data/task_events/*.csv.gz\"\n",
    "\n",
    "#Read the data into a SparkDataFrame\n",
    "df_task_event = spark.read.csv(path_task_event, header = False, schema = schema_task_events)\n",
    "\n",
    "#The path to the data file\n",
    "path_task_usage = \"../data/task_usage/*.csv.gz\"\n",
    "\n",
    "#Read the data into a SparkDataFrame\n",
    "df_task_usage = spark.read.csv(path_task_usage, header = False, schema = schema_task_usage)\n",
    "\n",
    "#Selecting only the columns we need\n",
    "df_task_event = df_task_event.select('job_id','task_index_job','cpu_request','disk_request','memory_request')\n",
    "df_task_usage = df_task_usage.select('job_id','task_index_job','cpu_usage','local_disk_usage','assigned_memory')"
   ]
  },
  {
   "cell_type": "markdown",
   "metadata": {},
   "source": [
    "## Exploratory Data Analysis"
   ]
  },
  {
   "cell_type": "code",
   "execution_count": 7,
   "metadata": {},
   "outputs": [
    {
     "name": "stdout",
     "output_type": "stream",
     "text": [
      "+------+--------------+-----------+------------+--------------+\n",
      "|job_id|task_index_job|cpu_request|disk_request|memory_request|\n",
      "+------+--------------+-----------+------------+--------------+\n",
      "|     0|             0|        291|         291|           291|\n",
      "+------+--------------+-----------+------------+--------------+\n",
      "\n"
     ]
    }
   ],
   "source": [
    "# Calculate the number of null values for each column\n",
    "df_task_event.select([F.count(F.when(F.col(c).isNull() | F.isnan(c), c)).alias(c) for c in df_task_event.columns]).show()"
   ]
  },
  {
   "cell_type": "code",
   "execution_count": 8,
   "metadata": {},
   "outputs": [
    {
     "name": "stdout",
     "output_type": "stream",
     "text": [
      "+------+--------------+---------+----------------+---------------+\n",
      "|job_id|task_index_job|cpu_usage|local_disk_usage|assigned_memory|\n",
      "+------+--------------+---------+----------------+---------------+\n",
      "|     0|             0|        0|               0|        2229529|\n",
      "+------+--------------+---------+----------------+---------------+\n",
      "\n"
     ]
    }
   ],
   "source": [
    "# Calculate the number of null values for each column\n",
    "df_task_usage.select([F.count(F.when(F.col(c).isNull() | F.isnan(c), c)).alias(c) for c in df_task_usage.columns]).show()"
   ]
  },
  {
   "cell_type": "code",
   "execution_count": 9,
   "metadata": {},
   "outputs": [
    {
     "data": {
      "text/plain": [
       "(450146, 2520773)"
      ]
     },
     "execution_count": 9,
     "metadata": {},
     "output_type": "execute_result"
    }
   ],
   "source": [
    "df_task_event.count(), df_task_usage.count()"
   ]
  },
  {
   "cell_type": "code",
   "execution_count": 10,
   "metadata": {},
   "outputs": [],
   "source": [
    "#Deleting the entries with null CPU requested and \n",
    "df_task_event = df_task_event.where(F.col('cpu_request').isNotNull())"
   ]
  },
  {
   "cell_type": "code",
   "execution_count": 11,
   "metadata": {},
   "outputs": [
    {
     "name": "stdout",
     "output_type": "stream",
     "text": [
      "+------+--------------+-----------+------------+--------------+\n",
      "|job_id|task_index_job|cpu_request|disk_request|memory_request|\n",
      "+------+--------------+-----------+------------+--------------+\n",
      "|     0|             0|          0|           0|             0|\n",
      "+------+--------------+-----------+------------+--------------+\n",
      "\n"
     ]
    }
   ],
   "source": [
    "#Calculate the number of null values for each column to make sure we deleted columns with null\n",
    "df_task_event.select([F.count(F.when(F.col(c).isNull() | F.isnan(c), c)).alias(c) for c in df_task_event.columns]).show()"
   ]
  },
  {
   "cell_type": "markdown",
   "metadata": {},
   "source": [
    "## Data Analysis\n",
    "In this part we try to answer the question :\n",
    "- Are there tasks that consume significantly less resources than what they requested? \n",
    "Inorder to answer this question, we will be using a thresholds of 10%."
   ]
  },
  {
   "cell_type": "code",
   "execution_count": 12,
   "metadata": {},
   "outputs": [],
   "source": [
    "#Joining the two dataframes on job_id and task_index_job\n",
    "joined_df = df_task_event.join(df_task_usage, on = ['job_id','task_index_job'])"
   ]
  },
  {
   "cell_type": "code",
   "execution_count": 13,
   "metadata": {},
   "outputs": [],
   "source": [
    "# Getting the machine that consume less resources then asked for\n",
    "less_ressources = joined_df.filter((0.1 * joined_df[\"cpu_request\"] > joined_df[\"cpu_usage\"] ) & \n",
    "                   (0.1 * joined_df[\"memory_request\"] > joined_df[\"assigned_memory\"]) &\n",
    "                   (0.1 * joined_df[\"disk_request\"] > joined_df[\"local_disk_usage\"]) ) "
   ]
  },
  {
   "cell_type": "code",
   "execution_count": 14,
   "metadata": {},
   "outputs": [
    {
     "name": "stdout",
     "output_type": "stream",
     "text": [
      "The poucentage of tasks that ask for resources needed is 14.73%\n"
     ]
    }
   ],
   "source": [
    "tasks_asking_for_less_resources_pourcentage = less_ressources.count() / joined_df.count() * 100\n",
    "print('The poucentage of tasks that ask for resources needed is {:1.2f}%'\n",
    "      .format(tasks_asking_for_less_resources_pourcentage))"
   ]
  },
  {
   "cell_type": "markdown",
   "metadata": {},
   "source": [
    "## Performance Analysis\n",
    "To do performance analysis, we created four scripts to track the execution time of 6 operations:\n",
    "- Reading Data : the time to read the data\n",
    "- Selecting subset of the data: The time to select a subset of the dataset\n",
    "- Join operation: the time to do a join operation\n",
    "- Simple filtering: the time to do a filtering based on one condition\n",
    "- Filtering on multiple conditions: the time to do a filtering on multiple conditions\n",
    "- Getting the final result: the totale time to get the result\n",
    "\n",
    "The 4 scripts aim to answer the same question that we answered above: \n",
    "- performance_analysis_pandas.py : Using pandas\n",
    "- performance_analysis_dask.py : Using parallel library Dask that relies on pandas.\n",
    "- performance_analysis_spark.py : Using spark with lazy evaluation\n",
    "- performance_analysis_spark_not_lazy.py : Using spark with a count operation after each step to make sure to execute and get the results.\n",
    "#### Notes\n",
    "> - Tests are executed 20 times, and then we use the average of the 20 tests for each scenario to get the times we use in our plots.\n",
    "> - For this part we used only one file for each table since it takes a while to get results.\n",
    "\n",
    "#### Guidlines for running the scripts locally :\n",
    "To run the scripts localy, first create a virtual environement using conda and the environment.yml file sent with this notebook. Please run this command on the terminal:\n",
    "\n",
    "`conda env create -f environment.yml`\n",
    "\n",
    "After that, you need to activate the environment using :\n",
    "\n",
    "`conda activate minimal_ds`\n",
    "\n",
    "And then run the scripts using:\n",
    "\n",
    "`python scriptFile.py` \n"
   ]
  },
  {
   "cell_type": "code",
   "execution_count": 15,
   "metadata": {},
   "outputs": [],
   "source": [
    "#This data comes from executing the scripts on command line.\n",
    "columns = ['technology',\n",
    "        'read_data',\n",
    "        'select',\n",
    "        'join',\n",
    "        'simple_filter',\n",
    "        'multiple_filter',\n",
    "        'get_result']\n",
    "\n",
    "pandas_times = ['Pandas',7.148006156500002, 0.7657244411999988, 0.7475655497, \n",
    "                0.01422852570000117, 0.5442509803999996, 9.4093145441]\n",
    "\n",
    "spark_times = ['Spark',0.24434430139999863, 0.03882590300000075, 0.013038327200000133, \n",
    "               0.004591568499998288, 0.03896013749999696, 27.228169405300005]\n",
    "\n",
    "dask_times = ['Dask',0.04793748160000395, 0.0021919701999991046, 0.008800908700002497,\n",
    "              0.0011480308000002548, 0.005737223699998873, 18.0964239503]\n",
    "spark_not_lazy_times = ['Spark Not lazy',3.010151996499994, 2.5755709013999875, 6.879256021200004, \n",
    "                                          0.6139163497999988, 21.426675952899984, 61.83260609909998]"
   ]
  },
  {
   "cell_type": "markdown",
   "metadata": {},
   "source": [
    "### Spark DataFrame VS Dask VS Pandas"
   ]
  },
  {
   "cell_type": "code",
   "execution_count": 16,
   "metadata": {},
   "outputs": [
    {
     "data": {
      "text/html": [
       "<div>\n",
       "<style scoped>\n",
       "    .dataframe tbody tr th:only-of-type {\n",
       "        vertical-align: middle;\n",
       "    }\n",
       "\n",
       "    .dataframe tbody tr th {\n",
       "        vertical-align: top;\n",
       "    }\n",
       "\n",
       "    .dataframe thead th {\n",
       "        text-align: right;\n",
       "    }\n",
       "</style>\n",
       "<table border=\"1\" class=\"dataframe\">\n",
       "  <thead>\n",
       "    <tr style=\"text-align: right;\">\n",
       "      <th>technology</th>\n",
       "      <th>index</th>\n",
       "      <th>Pandas</th>\n",
       "      <th>Spark</th>\n",
       "      <th>Dask</th>\n",
       "    </tr>\n",
       "  </thead>\n",
       "  <tbody>\n",
       "    <tr>\n",
       "      <th>0</th>\n",
       "      <td>read_data</td>\n",
       "      <td>7.148006</td>\n",
       "      <td>0.244344</td>\n",
       "      <td>0.047937</td>\n",
       "    </tr>\n",
       "    <tr>\n",
       "      <th>1</th>\n",
       "      <td>select</td>\n",
       "      <td>0.765724</td>\n",
       "      <td>0.038826</td>\n",
       "      <td>0.002192</td>\n",
       "    </tr>\n",
       "    <tr>\n",
       "      <th>2</th>\n",
       "      <td>join</td>\n",
       "      <td>0.747566</td>\n",
       "      <td>0.013038</td>\n",
       "      <td>0.008801</td>\n",
       "    </tr>\n",
       "    <tr>\n",
       "      <th>3</th>\n",
       "      <td>simple_filter</td>\n",
       "      <td>0.014229</td>\n",
       "      <td>0.004592</td>\n",
       "      <td>0.001148</td>\n",
       "    </tr>\n",
       "    <tr>\n",
       "      <th>4</th>\n",
       "      <td>multiple_filter</td>\n",
       "      <td>0.544251</td>\n",
       "      <td>0.038960</td>\n",
       "      <td>0.005737</td>\n",
       "    </tr>\n",
       "  </tbody>\n",
       "</table>\n",
       "</div>"
      ],
      "text/plain": [
       "technology            index    Pandas     Spark      Dask\n",
       "0                 read_data  7.148006  0.244344  0.047937\n",
       "1                    select  0.765724  0.038826  0.002192\n",
       "2                      join  0.747566  0.013038  0.008801\n",
       "3             simple_filter  0.014229  0.004592  0.001148\n",
       "4           multiple_filter  0.544251  0.038960  0.005737"
      ]
     },
     "execution_count": 16,
     "metadata": {},
     "output_type": "execute_result"
    }
   ],
   "source": [
    "data = [pandas_times,spark_times,dask_times]\n",
    "df = pd.DataFrame(data, columns = columns) \n",
    "df.set_index('technology', inplace = True)\n",
    "df = df.T\n",
    "df.reset_index(inplace = True)\n",
    "df.head()"
   ]
  },
  {
   "cell_type": "code",
   "execution_count": 17,
   "metadata": {},
   "outputs": [
    {
     "data": {
      "image/png": "[encoded data removed]",
      "text/plain": [
       "<Figure size 842.4x595.44 with 1 Axes>"
      ]
     },
     "metadata": {},
     "output_type": "display_data"
    }
   ],
   "source": [
    "ind = np.arange(df['index'].shape[0])\n",
    "width = 0.8\n",
    "plt.bar(ind - width/3, df['Spark'], label = \"Spark\", \n",
    "        tick_label = df['index'], width = width/3, \n",
    "        align='edge')\n",
    "\n",
    "plt.bar(ind, df['Pandas'], label = \"Pandas\", \n",
    "        tick_label = df['index'], width=width/3,\n",
    "        align='edge')\n",
    "\n",
    "plt.bar(ind + width/3, df['Dask'],label = \"Dask\", \n",
    "        tick_label = df['index'], width=width/3, \n",
    "        align='edge')\n",
    "\n",
    "plt.xlabel('Indicators')\n",
    "plt.ylabel('Time(s)')\n",
    "plt.legend()\n",
    "plt.savefig('../figures/SparkVSPandasVSDask1.png', bbox_inches='tight')\n",
    "plt.show()"
   ]
  },
  {
   "cell_type": "code",
   "execution_count": 18,
   "metadata": {},
   "outputs": [
    {
     "data": {
      "image/png": "[encoded data removed]",
      "text/plain": [
       "<Figure size 842.4x595.44 with 1 Axes>"
      ]
     },
     "metadata": {},
     "output_type": "display_data"
    }
   ],
   "source": [
    "ind = np.arange(df['index'].shape[0])\n",
    "width = 0.8\n",
    "plt.bar(ind - width/3, df['Spark'], label = \"Spark\", \n",
    "        tick_label = df['index'], width = width/3, \n",
    "        align='edge')\n",
    "\n",
    "plt.bar(ind, df['Pandas'], label = \"Pandas\", \n",
    "        tick_label = df['index'], width=width/3,\n",
    "        align='edge')\n",
    "\n",
    "plt.bar(ind + width/3, df['Dask'],label = \"Dask\", \n",
    "        tick_label = df['index'], width=width/3, \n",
    "        align='edge')\n",
    "plt.ylim(0, 0.5)\n",
    "plt.xlabel('Indicators')\n",
    "plt.ylabel('Time(s)')\n",
    "plt.legend()\n",
    "plt.savefig('../figures/SparkVSPandasVSDask2.png', bbox_inches='tight')\n",
    "plt.show()"
   ]
  },
  {
   "cell_type": "markdown",
   "metadata": {},
   "source": [
    "### Spark Lazy evaluation VS Spark Without lazy evaluation"
   ]
  },
  {
   "cell_type": "code",
   "execution_count": 19,
   "metadata": {},
   "outputs": [
    {
     "data": {
      "text/html": [
       "<div>\n",
       "<style scoped>\n",
       "    .dataframe tbody tr th:only-of-type {\n",
       "        vertical-align: middle;\n",
       "    }\n",
       "\n",
       "    .dataframe tbody tr th {\n",
       "        vertical-align: top;\n",
       "    }\n",
       "\n",
       "    .dataframe thead th {\n",
       "        text-align: right;\n",
       "    }\n",
       "</style>\n",
       "<table border=\"1\" class=\"dataframe\">\n",
       "  <thead>\n",
       "    <tr style=\"text-align: right;\">\n",
       "      <th>technology</th>\n",
       "      <th>index</th>\n",
       "      <th>Spark</th>\n",
       "      <th>Spark Not lazy</th>\n",
       "    </tr>\n",
       "  </thead>\n",
       "  <tbody>\n",
       "    <tr>\n",
       "      <th>0</th>\n",
       "      <td>read_data</td>\n",
       "      <td>0.244344</td>\n",
       "      <td>3.010152</td>\n",
       "    </tr>\n",
       "    <tr>\n",
       "      <th>1</th>\n",
       "      <td>select</td>\n",
       "      <td>0.038826</td>\n",
       "      <td>2.575571</td>\n",
       "    </tr>\n",
       "    <tr>\n",
       "      <th>2</th>\n",
       "      <td>join</td>\n",
       "      <td>0.013038</td>\n",
       "      <td>6.879256</td>\n",
       "    </tr>\n",
       "    <tr>\n",
       "      <th>3</th>\n",
       "      <td>simple_filter</td>\n",
       "      <td>0.004592</td>\n",
       "      <td>0.613916</td>\n",
       "    </tr>\n",
       "    <tr>\n",
       "      <th>4</th>\n",
       "      <td>multiple_filter</td>\n",
       "      <td>0.038960</td>\n",
       "      <td>21.426676</td>\n",
       "    </tr>\n",
       "  </tbody>\n",
       "</table>\n",
       "</div>"
      ],
      "text/plain": [
       "technology            index     Spark  Spark Not lazy\n",
       "0                 read_data  0.244344        3.010152\n",
       "1                    select  0.038826        2.575571\n",
       "2                      join  0.013038        6.879256\n",
       "3             simple_filter  0.004592        0.613916\n",
       "4           multiple_filter  0.038960       21.426676"
      ]
     },
     "execution_count": 19,
     "metadata": {},
     "output_type": "execute_result"
    }
   ],
   "source": [
    "data = [spark_times,spark_not_lazy_times]\n",
    "df = pd.DataFrame(data, columns = columns) \n",
    "df.set_index('technology', inplace = True)\n",
    "df = df.T\n",
    "df.reset_index(inplace = True)\n",
    "df.head()"
   ]
  },
  {
   "cell_type": "code",
   "execution_count": 20,
   "metadata": {},
   "outputs": [
    {
     "data": {
      "image/png": "[encoded data removed]",
      "text/plain": [
       "<Figure size 842.4x595.44 with 1 Axes>"
      ]
     },
     "metadata": {},
     "output_type": "display_data"
    }
   ],
   "source": [
    "ind = np.arange(df['index'].shape[0])\n",
    "width = 0.6\n",
    "plt.bar(ind - width/2, df['Spark'], label = \"Spark Lazy\", \n",
    "        tick_label = df['index'], width = width/2, \n",
    "        align='edge')\n",
    "\n",
    "\n",
    "plt.bar(ind , df['Spark Not lazy'],label = \"Spark Not lazy\", \n",
    "        tick_label = df['index'], width=width/2, \n",
    "        align='edge')\n",
    "\n",
    "plt.xlabel('Indicators')\n",
    "plt.ylabel('Time(s)')\n",
    "plt.legend()\n",
    "plt.savefig('../figures/lazyVSNotLazy1.png', bbox_inches='tight')\n",
    "plt.show()"
   ]
  },
  {
   "cell_type": "code",
   "execution_count": 21,
   "metadata": {},
   "outputs": [
    {
     "data": {
      "image/png": "[encoded data removed]",
      "text/plain": [
       "<Figure size 842.4x595.44 with 1 Axes>"
      ]
     },
     "metadata": {},
     "output_type": "display_data"
    }
   ],
   "source": [
    "ind = np.arange(df['index'].shape[0])\n",
    "width = 0.6\n",
    "plt.bar(ind - width/2, df['Spark'], label = \"Spark Lazy\", \n",
    "        tick_label = df['index'], width = width/2, \n",
    "        align='edge')\n",
    "\n",
    "\n",
    "plt.bar(ind , df['Spark Not lazy'],label = \"Spark Not lazy\", \n",
    "        tick_label = df['index'], width=width/2, \n",
    "        align='edge')\n",
    "plt.ylim(0, 0.5)\n",
    "plt.xlabel('Indicators')\n",
    "plt.ylabel('Time(s)')\n",
    "plt.legend()\n",
    "plt.savefig('../figures/lazyVSNotLazy2.png', bbox_inches='tight')\n",
    "plt.show()"
   ]
  },
  {
   "cell_type": "markdown",
   "metadata": {},
   "source": [
    "## Performance Analysis on the cloud"
   ]
  },
  {
   "cell_type": "code",
   "execution_count": 22,
   "metadata": {},
   "outputs": [],
   "source": [
    "#This data comes from executing the scripts on command line on the GCP cluster.\n",
    "columns = ['technology',\n",
    "        'read_data',\n",
    "        'select',\n",
    "        'join',\n",
    "        'simple_filter',\n",
    "        'multiple_filter',\n",
    "        'get_result']\n",
    "\n",
    "pandas_times = ['Pandas',17.593828454005, 4.5492394238403, 3.5494293128, \n",
    "                0.956484585, 4.5442509803999996, 31.193232756045298]\n",
    "\n",
    "spark_times = ['Spark',0.3848294958484, 0.008483829553345, 0.030485838199, \n",
    "               0.00658483850005, 0.064938484495, 7.4958392990003]\n",
    "\n",
    "dask_times = ['Dask',0.059394300004, 0.005484538328428, 0.0099954004,\n",
    "              0.03203293304, 0.04593559439439, 24.00046845099]\n"
   ]
  },
  {
   "cell_type": "code",
   "execution_count": 23,
   "metadata": {},
   "outputs": [
    {
     "data": {
      "text/html": [
       "<div>\n",
       "<style scoped>\n",
       "    .dataframe tbody tr th:only-of-type {\n",
       "        vertical-align: middle;\n",
       "    }\n",
       "\n",
       "    .dataframe tbody tr th {\n",
       "        vertical-align: top;\n",
       "    }\n",
       "\n",
       "    .dataframe thead th {\n",
       "        text-align: right;\n",
       "    }\n",
       "</style>\n",
       "<table border=\"1\" class=\"dataframe\">\n",
       "  <thead>\n",
       "    <tr style=\"text-align: right;\">\n",
       "      <th>technology</th>\n",
       "      <th>index</th>\n",
       "      <th>Pandas</th>\n",
       "      <th>Spark</th>\n",
       "      <th>Dask</th>\n",
       "    </tr>\n",
       "  </thead>\n",
       "  <tbody>\n",
       "    <tr>\n",
       "      <th>0</th>\n",
       "      <td>read_data</td>\n",
       "      <td>17.593828</td>\n",
       "      <td>0.384829</td>\n",
       "      <td>0.059394</td>\n",
       "    </tr>\n",
       "    <tr>\n",
       "      <th>1</th>\n",
       "      <td>select</td>\n",
       "      <td>4.549239</td>\n",
       "      <td>0.008484</td>\n",
       "      <td>0.005485</td>\n",
       "    </tr>\n",
       "    <tr>\n",
       "      <th>2</th>\n",
       "      <td>join</td>\n",
       "      <td>3.549429</td>\n",
       "      <td>0.030486</td>\n",
       "      <td>0.009995</td>\n",
       "    </tr>\n",
       "    <tr>\n",
       "      <th>3</th>\n",
       "      <td>simple_filter</td>\n",
       "      <td>0.956485</td>\n",
       "      <td>0.006585</td>\n",
       "      <td>0.032033</td>\n",
       "    </tr>\n",
       "    <tr>\n",
       "      <th>4</th>\n",
       "      <td>multiple_filter</td>\n",
       "      <td>4.544251</td>\n",
       "      <td>0.064938</td>\n",
       "      <td>0.045936</td>\n",
       "    </tr>\n",
       "  </tbody>\n",
       "</table>\n",
       "</div>"
      ],
      "text/plain": [
       "technology            index     Pandas     Spark      Dask\n",
       "0                 read_data  17.593828  0.384829  0.059394\n",
       "1                    select   4.549239  0.008484  0.005485\n",
       "2                      join   3.549429  0.030486  0.009995\n",
       "3             simple_filter   0.956485  0.006585  0.032033\n",
       "4           multiple_filter   4.544251  0.064938  0.045936"
      ]
     },
     "execution_count": 23,
     "metadata": {},
     "output_type": "execute_result"
    }
   ],
   "source": [
    "data = [pandas_times,spark_times,dask_times]\n",
    "df = pd.DataFrame(data, columns = columns) \n",
    "df.set_index('technology', inplace = True)\n",
    "df = df.T\n",
    "df.reset_index(inplace = True)\n",
    "df.head()"
   ]
  },
  {
   "cell_type": "code",
   "execution_count": 24,
   "metadata": {},
   "outputs": [
    {
     "data": {
      "image/png": "[encoded data removed]",
      "text/plain": [
       "<Figure size 842.4x595.44 with 1 Axes>"
      ]
     },
     "metadata": {},
     "output_type": "display_data"
    }
   ],
   "source": [
    "ind = np.arange(df['index'].shape[0])\n",
    "width = 0.8\n",
    "plt.bar(ind - width/3, df['Spark'], label = \"Spark\", \n",
    "        tick_label = df['index'], width = width/3, \n",
    "        align='edge')\n",
    "\n",
    "plt.bar(ind, df['Pandas'], label = \"Pandas\", \n",
    "        tick_label = df['index'], width=width/3,\n",
    "        align='edge')\n",
    "\n",
    "plt.bar(ind + width/3, df['Dask'],label = \"Dask\", \n",
    "        tick_label = df['index'], width=width/3, \n",
    "        align='edge')\n",
    "\n",
    "plt.xlabel('Indicators')\n",
    "plt.ylabel('Time(s)')\n",
    "plt.legend()\n",
    "plt.savefig('../figures/GCPSparkVSPandasVSDask1.png', bbox_inches='tight')\n",
    "plt.show()"
   ]
  },
  {
   "cell_type": "code",
   "execution_count": 25,
   "metadata": {},
   "outputs": [
    {
     "data": {
      "image/png": "[encoded data removed]",
      "text/plain": [
       "<Figure size 842.4x595.44 with 1 Axes>"
      ]
     },
     "metadata": {},
     "output_type": "display_data"
    }
   ],
   "source": [
    "ind = np.arange(df['index'].shape[0])\n",
    "width = 0.8\n",
    "plt.bar(ind - width/3, df['Spark'], label = \"Spark\", \n",
    "        tick_label = df['index'], width = width/3, \n",
    "        align='edge')\n",
    "\n",
    "plt.bar(ind, df['Pandas'], label = \"Pandas\", \n",
    "        tick_label = df['index'], width=width/3,\n",
    "        align='edge')\n",
    "\n",
    "plt.bar(ind + width/3, df['Dask'],label = \"Dask\", \n",
    "        tick_label = df['index'], width=width/3, \n",
    "        align='edge')\n",
    "plt.ylim(0, 0.5)\n",
    "plt.xlabel('Indicators')\n",
    "plt.ylabel('Time(s)')\n",
    "plt.legend()\n",
    "plt.savefig('../figures/GCPSparkVSPandasVSDask2.png', bbox_inches='tight')\n",
    "plt.show()"
   ]
  },
  {
   "cell_type": "code",
   "execution_count": null,
   "metadata": {},
   "outputs": [],
   "source": []
  }
 ],
 "metadata": {
  "kernelspec": {
   "display_name": "Python 3",
   "language": "python",
   "name": "python3"
  },
  "language_info": {
   "codemirror_mode": {
    "name": "ipython",
    "version": 3
   },
   "file_extension": ".py",
   "mimetype": "text/x-python",
   "name": "python",
   "nbconvert_exporter": "python",
   "pygments_lexer": "ipython3",
   "version": "3.8.6"
  }
 },
 "nbformat": 4,
 "nbformat_minor": 4
}
