{
 "cells": [
  {
   "cell_type": "code",
   "execution_count": 2,
   "metadata": {},
   "outputs": [],
   "source": [
    "import sys\n",
    "from pyspark import SparkContext\n",
    "import time\n",
    "\n",
    "import matplotlib.pyplot as plt"
   ]
  },
  {
   "cell_type": "code",
   "execution_count": 3,
   "metadata": {},
   "outputs": [],
   "source": [
    "# start spark with 1 worker thread\n",
    "sc = SparkContext(\"local[*]\")\n",
    "sc.setLogLevel(\"ERROR\")"
   ]
  },
  {
   "cell_type": "code",
   "execution_count": 5,
   "metadata": {},
   "outputs": [],
   "source": [
    "# dataset column names\n",
    "col = {\n",
    "    \"time\" : 0,\n",
    "    \"missingInfo\" : 1,\n",
    "    \"jobID\" : 2,\n",
    "    \"taskID\" : 3,\n",
    "    \"machineID\" : 4,\n",
    "    \"eventType\" : 5,\n",
    "    \"user\" : 6,\n",
    "    \"schedulingClass\" : 7,\n",
    "    \"priority\" : 8,\n",
    "    \"cpuReq\" : 9,\n",
    "    \"memoryReq\" : 10,\n",
    "    \"diskSpaceReq\" : 11,\n",
    "    \"dms\" : 12 # different machines restriction\n",
    "}"
   ]
  },
  {
   "cell_type": "code",
   "execution_count": 16,
   "metadata": {
    "scrolled": true
   },
   "outputs": [
    {
     "data": {
      "text/plain": [
       "PythonRDD[17] at RDD at PythonRDD.scala:53"
      ]
     },
     "execution_count": 16,
     "metadata": {},
     "output_type": "execute_result"
    }
   ],
   "source": [
    "# preparing database by splitting it and setting data type for each field\n",
    "task_events_rdd = sc.textFile(\"../data/task_events.csv\")\n",
    "te_entries = task_events_rdd.map(lambda x : x.split(','))\n",
    "te_entries = te_entries.map(lambda x : [\n",
    "    int('0' + x[col[\"time\"]]),\n",
    "    int('0' + x[col[\"missingInfo\"]]),\n",
    "    int('0' + x[col[\"jobID\"]]),\n",
    "    int('0' + x[col[\"taskID\"]]),\n",
    "    int('0' + x[col[\"machineID\"]]),\n",
    "    int('0' + x[col[\"eventType\"]]),\n",
    "    str(x[col[\"user\"]]),\n",
    "    int('0' + x[col[\"schedulingClass\"]]),\n",
    "    int('0' + x[col[\"priority\"]]),\n",
    "    float('0' + x[col[\"cpuReq\"]]),\n",
    "    float('0' + x[col[\"memoryReq\"]]),\n",
    "    float('0' + x[col[\"diskSpaceReq\"]]),\n",
    "    bool(x[col[\"dms\"]])\n",
    "])\n",
    "# keep the RDD in memory\n",
    "te_entries.cache()"
   ]
  },
  {
   "cell_type": "markdown",
   "metadata": {},
   "source": [
    "## On average, how many tasks compose a job?"
   ]
  },
  {
   "cell_type": "markdown",
   "metadata": {},
   "source": [
    "Some helpful functions:"
   ]
  },
  {
   "cell_type": "code",
   "execution_count": 69,
   "metadata": {},
   "outputs": [],
   "source": [
    "# Create a new pair-based RDD.\n",
    "# First element of which is 'key' (value of 'key' field in dataset),\n",
    "# Second is corresponding line or a value of 'value' field in dataset if 'value' arg is passed.\n",
    "def regroup_RDD_by_key(rdd, key, value=None):\n",
    "    key_num = col[key]\n",
    "    \n",
    "    if value is not None:\n",
    "        val_num =  col[value]\n",
    "        return rdd.map(lambda line: (line[key_num], line[val_num]))\n",
    "    \n",
    "    return rdd.map(lambda line : (line[key_num], line))\n",
    "\n",
    "# Calculate mean of 'num' (0 or 1) elements of dictionary of pairs\n",
    "def mean_of_elems(data, num):\n",
    "    sum_val = 0\n",
    "    for elem in data:\n",
    "        sum_val += elem[num]\n",
    "    return sum_val/len(data)"
   ]
  },
  {
   "cell_type": "markdown",
   "metadata": {},
   "source": [
    "Actual answer to the question:"
   ]
  },
  {
   "cell_type": "code",
   "execution_count": 71,
   "metadata": {},
   "outputs": [
    {
     "data": {
      "text/plain": [
       "91.96036772216547"
      ]
     },
     "execution_count": 71,
     "metadata": {},
     "output_type": "execute_result"
    }
   ],
   "source": [
    "# MapReduce data by jobID to get a correlation of jobID to number of tasks that compose it.\n",
    "jobID_to_taskIDnum = regroup_RDD_by_key(te_entries, 'jobID', 'taskID').countByKey()\n",
    "# Calculate mean of numbers of tasks.\n",
    "mean_of_elems(jobID_to_taskIDnum.items(), 1)"
   ]
  },
  {
   "cell_type": "markdown",
   "metadata": {},
   "source": [
    "# What can you say about the relation between the scheduling class of a job, the schedulingclass of its tasks, and their priority?"
   ]
  },
  {
   "cell_type": "markdown",
   "metadata": {},
   "source": [
    "To get a relation between scheduling class and a priotity we calculate the mean of priority that is usually assigned to the scheduling class.\n",
    "\n",
    "For this we divide calculation in two stages:\n",
    "1. Gather all tasks of same scheduling class 'i'\n",
    "2. Calculate mean of their priority\n",
    "\n",
    "And to have better representation, build bar chart of relation between scheduling class and a mean of its \n",
    "priority."
   ]
  },
  {
   "cell_type": "markdown",
   "metadata": {},
   "source": [
    "## Data set and data presentation\n",
    "\n",
    "To answer this question we'll be using task_events table.\n",
    "\n",
    "### Schema:\n",
    "The task events table contains the following fields:\n",
    "1. timestamp\n",
    "2. missing info\n",
    "3. job ID\n",
    "4. task index - within the job\n",
    "5. machine ID\n",
    "6. event type\n",
    "7. user name\n",
    "8. scheduling class\n",
    "9. priority\n",
    "10. resource request for CPU cores\n",
    "11. resource request for RAM\n",
    "12. resource request for local disk space\n",
    "13. different-machine constraint\n",
    "\n",
    "Out of which we are interested by fields 8 and 9."
   ]
  },
  {
   "cell_type": "markdown",
   "metadata": {},
   "source": [
    "### Scheduling class\n",
    "Represents latency-sensitivity.\n",
    "0 - the least sensitive\n",
    "3 - the most sensitive\n",
    "\n",
    "### Priority\n",
    "Ranges from 0 (the lowest priority) to 11 (the highest priority)."
   ]
  },
  {
   "cell_type": "code",
   "execution_count": 45,
   "metadata": {},
   "outputs": [],
   "source": [
    "# Prepare dataset.\n",
    "from pyspark.sql import SQLContext, Row, SparkSession\n",
    "from pyspark.sql.types import StructType, StructField, IntegerType, StringType, FloatType, LongType, BooleanType\n",
    "import pyspark.sql.functions as F\n",
    "import pandas as pd\n",
    "import seaborn as sns"
   ]
  },
  {
   "cell_type": "code",
   "execution_count": 47,
   "metadata": {},
   "outputs": [],
   "source": [
    "#Setting the visualisations theme\n",
    "sns.set_theme(style=\"whitegrid\")\n",
    "sns.set(rc={'figure.figsize':(11.7,8.27)})"
   ]
  },
  {
   "cell_type": "code",
   "execution_count": 7,
   "metadata": {},
   "outputs": [],
   "source": [
    "#Create a spark session\n",
    "spark = spark = SparkSession.builder \\\n",
    "                .master(\"local\") \\\n",
    "                .appName(\"task-events-analysis\") \\\n",
    "                .getOrCreate()"
   ]
  },
  {
   "cell_type": "code",
   "execution_count": 22,
   "metadata": {},
   "outputs": [],
   "source": [
    "#Define a schema for the task_events table\n",
    "schema_task_events = StructType([\n",
    "    StructField(\"time\", LongType(), False),\n",
    "    StructField(\"missing_info\", IntegerType(), True),\n",
    "    StructField(\"job_id\", LongType(), False),\n",
    "    StructField(\"task_index\", IntegerType(), True),\n",
    "    StructField(\"machine_id\", LongType(), False),\n",
    "    StructField(\"event_type\", IntegerType(), False),\n",
    "\n",
    "    StructField(\"user\", StringType(), True),\n",
    "    StructField(\"scheduling_class\", IntegerType(), True),\n",
    "    StructField(\"priority\", IntegerType(), False),\n",
    "\n",
    "    StructField(\"cpu_request\", FloatType(), True),\n",
    "    StructField(\"memory_request\", FloatType(), True),\n",
    "    StructField(\"disk_space_request\", FloatType(), True),\n",
    "\n",
    "    StructField(\"diff_machine_restricition\", BooleanType(), True)])"
   ]
  },
  {
   "cell_type": "code",
   "execution_count": 37,
   "metadata": {},
   "outputs": [],
   "source": [
    "#The path to the data file\n",
    "path = \"../data/task_events.csv\"\n",
    "\n",
    "#Read the data into a SparkDataFrame\n",
    "df_task_event = spark.read.csv(path, header = False, schema = schema_task_events)"
   ]
  },
  {
   "cell_type": "code",
   "execution_count": 38,
   "metadata": {},
   "outputs": [],
   "source": [
    "#just playing around, delete it later\n",
    "#df_task_event.filter(df_task_event['scheduling_class'] == 1).count()"
   ]
  },
  {
   "cell_type": "code",
   "execution_count": 39,
   "metadata": {},
   "outputs": [
    {
     "name": "stdout",
     "output_type": "stream",
     "text": [
      "+----+------------+-------+----------+----------+----------+--------------------+----------------+--------+-----------+--------------+------------------+-------------------------+\n",
      "|time|missing_info| job_id|task_index|machine_id|event_type|                user|scheduling_class|priority|cpu_request|memory_request|disk_space_request|diff_machine_restricition|\n",
      "+----+------------+-------+----------+----------+----------+--------------------+----------------+--------+-----------+--------------+------------------+-------------------------+\n",
      "|   0|           2|3418309|         0|4155527081|         0|70s3v5qRyCO/1PCdI...|               3|       9|       null|          null|              null|                     null|\n",
      "|   0|           2|3418309|         1| 329150663|         0|70s3v5qRyCO/1PCdI...|               3|       9|       null|          null|              null|                     null|\n",
      "|   0|        null|3418314|         0|3938719206|         0|70s3v5qRyCO/1PCdI...|               3|       9|      0.125|       0.07446|          4.244E-4|                     null|\n",
      "|   0|        null|3418314|         1| 351618647|         0|70s3v5qRyCO/1PCdI...|               3|       9|      0.125|       0.07446|          4.244E-4|                     null|\n",
      "|   0|           2|3418319|         0| 431052910|         0|70s3v5qRyCO/1PCdI...|               3|       9|       null|          null|              null|                     null|\n",
      "+----+------------+-------+----------+----------+----------+--------------------+----------------+--------+-----------+--------------+------------------+-------------------------+\n",
      "only showing top 5 rows\n",
      "\n"
     ]
    }
   ],
   "source": [
    "df_task_event.show(5)"
   ]
  },
  {
   "cell_type": "code",
   "execution_count": 43,
   "metadata": {},
   "outputs": [],
   "source": [
    "#Create a dataframe with CPU capacity count and percentages\n",
    "#df_cpu_capacity_count = df_unique_machines.groupBy(\"cpu_capacity\").count() \\\n",
    "#    .withColumn(\"pourcentage\", F.col(\"count\")/ num_unique_machines * 100)\n",
    "\n",
    "#Create a dataframe with Scheduling Class and a mean of it's priority\n",
    "df_sch_class_priority = df_task_event.groupBy(\"scheduling_class\") \\\n",
    "        .agg(F.collect_list(\"priority\").alias('priority_list'), \\\n",
    "             F.mean('priority').alias('average_priority'))"
   ]
  },
  {
   "cell_type": "code",
   "execution_count": 44,
   "metadata": {},
   "outputs": [
    {
     "name": "stdout",
     "output_type": "stream",
     "text": [
      "+----------------+--------------------+------------------+\n",
      "|scheduling_class|       priority_list|  average_priority|\n",
      "+----------------+--------------------+------------------+\n",
      "|               1|[10, 9, 9, 9, 9, ...| 4.792545044657454|\n",
      "|               3|[9, 9, 9, 9, 9, 9...| 8.398826564874703|\n",
      "|               2|[10, 10, 1, 1, 1,...| 4.262099669682608|\n",
      "|               0|[0, 0, 0, 0, 0, 0...|1.3595216183620555|\n",
      "+----------------+--------------------+------------------+\n",
      "\n"
     ]
    }
   ],
   "source": [
    "df_sch_class_priority.show(5)"
   ]
  },
  {
   "cell_type": "code",
   "execution_count": 51,
   "metadata": {},
   "outputs": [
    {
     "data": {
      "text/plain": [
       "<AxesSubplot:xlabel='scheduling_class', ylabel='average_priority'>"
      ]
     },
     "execution_count": 51,
     "metadata": {},
     "output_type": "execute_result"
    },
    {
     "data": {
      "image/png": "[encoded data removed]",
      "text/plain": [
       "<Figure size 842.4x595.44 with 1 Axes>"
      ]
     },
     "metadata": {},
     "output_type": "display_data"
    }
   ],
   "source": [
    "# Build graphic based on found values\n",
    "\n",
    "#Convert the spark dataframe into a Pandas a dataframe to be able to use seaborn\n",
    "pd_df_sch_class_priority = df_sch_class_priority.toPandas()\n",
    "sns.barplot(x='scheduling_class',y = 'average_priority', data = pd_df_sch_class_priority)"
   ]
  },
  {
   "cell_type": "markdown",
   "metadata": {},
   "source": [
    "## Observations and results\n",
    "As we can observe and as we expected, tasks that don't tolerate latency (with the scheduling_class = 3) are assigned the highest priority in general. Exactly the opposite and as expected we may observe for scheduling_class = 0, thus the tasks that can tolerate latency, are in average assigned the least priority.\n",
    "\n",
    "As for tasks with scheduling_class 1 and 2, they are in between and the bar chart proves that indeed priority is not stricly corresponding to scheduling class of a task."
   ]
  },
  {
   "cell_type": "markdown",
   "metadata": {},
   "source": [
    "# Do tasks with low priority have a higher probability of being evicted?"
   ]
  },
  {
   "cell_type": "markdown",
   "metadata": {},
   "source": [
    "The task_events table contains field \"event type\" which can take values from 0 to 8. The one that interests us to answer this question is\n",
    "   >EVICT(2): A task or job was descheduled because of a higher priority task or job,\n",
    "because the scheduler overcommitted and the actual demand exceeded the machine\n",
    "capacity, because the machine on which it was running became unusable (e.g. taken\n",
    "offline for repairs), or because a disk holding the task’s data was lost."
   ]
  },
  {
   "cell_type": "markdown",
   "metadata": {},
   "source": [
    "To answer the queston we firstly calcutale correspondance of priority to number of times it was evicted. And then calculate what percentage this number makes of all times any task of any priority was evicted (sum of all lines with event_type = 2)."
   ]
  },
  {
   "cell_type": "code",
   "execution_count": 53,
   "metadata": {},
   "outputs": [],
   "source": [
    "# Select lines with event_type = 2.\n",
    "df_evicted = df_task_event.filter(df_task_event['event_type'] == 2)"
   ]
  },
  {
   "cell_type": "code",
   "execution_count": 55,
   "metadata": {},
   "outputs": [
    {
     "name": "stdout",
     "output_type": "stream",
     "text": [
      "+---------+------------+----------+----------+----------+----------+--------------------+----------------+--------+-----------+--------------+------------------+-------------------------+\n",
      "|     time|missing_info|    job_id|task_index|machine_id|event_type|                user|scheduling_class|priority|cpu_request|memory_request|disk_space_request|diff_machine_restricition|\n",
      "+---------+------------+----------+----------+----------+----------+--------------------+----------------+--------+-----------+--------------+------------------+-------------------------+\n",
      "|605587262|        null|6250245734|      3586|3725353497|         2|0e4YV8rEkcNKEIOsJ...|               0|       2|     0.0625|        0.1184|          0.001158|                     null|\n",
      "|608159425|        null|6250245734|      3781|1726343673|         2|0e4YV8rEkcNKEIOsJ...|               0|       2|     0.0625|        0.1184|          0.001158|                     null|\n",
      "|613709326|        null|6250345153|       822| 351650065|         2|4Ubmtvv/epOnUEgeg...|               0|       0|    0.06873|       0.01193|          1.154E-4|                     null|\n",
      "|613709707|        null|6221861800|      8999|5401869673|         2|huEqgBuTsgIbw1KmY...|               0|       0|     0.0125|        0.0159|          4.044E-4|                     null|\n",
      "|613709715|        null|6221861800|      9009|5401869673|         2|huEqgBuTsgIbw1KmY...|               0|       0|     0.0125|        0.0159|          4.044E-4|                     null|\n",
      "+---------+------------+----------+----------+----------+----------+--------------------+----------------+--------+-----------+--------------+------------------+-------------------------+\n",
      "only showing top 5 rows\n",
      "\n"
     ]
    }
   ],
   "source": [
    "df_evicted.show(5)"
   ]
  },
  {
   "cell_type": "code",
   "execution_count": 92,
   "metadata": {},
   "outputs": [
    {
     "name": "stdout",
     "output_type": "stream",
     "text": [
      "+--------+-----+\n",
      "|priority|count|\n",
      "+--------+-----+\n",
      "|       1|   52|\n",
      "|       9|   22|\n",
      "|      10|    1|\n",
      "|       2|   55|\n",
      "|       0| 4208|\n",
      "+--------+-----+\n",
      "\n"
     ]
    }
   ],
   "source": [
    "# Group by priority and count how many times each priority was evicted.\n",
    "\n",
    "df_priority_evicted = df_evicted.groupBy(\"priority\").count()\n",
    "#df_priority_evicted.show()\n",
    "all_evicted = df_priority_evicted.select('count').groupBy().sum().collect()[0][0]"
   ]
  },
  {
   "cell_type": "code",
   "execution_count": 106,
   "metadata": {},
   "outputs": [],
   "source": [
    "df_priority_eviction = df_priority_evicted.withColumn('chance_of_eviction', F.col('count')*100/all_evicted)"
   ]
  },
  {
   "cell_type": "code",
   "execution_count": 107,
   "metadata": {},
   "outputs": [
    {
     "name": "stdout",
     "output_type": "stream",
     "text": [
      "+--------+-----+--------------------+\n",
      "|priority|count|  chance_of_eviction|\n",
      "+--------+-----+--------------------+\n",
      "|       1|   52|  1.1987090825265099|\n",
      "|       9|   22|  0.5071461502996772|\n",
      "|      10|    1|0.023052097740894423|\n",
      "|       2|   55|  1.2678653757491931|\n",
      "|       0| 4208|   97.00322729368372|\n",
      "+--------+-----+--------------------+\n",
      "\n"
     ]
    }
   ],
   "source": [
    "df_priority_eviction.show()"
   ]
  },
  {
   "cell_type": "code",
   "execution_count": 115,
   "metadata": {},
   "outputs": [
    {
     "data": {
      "text/plain": [
       "<AxesSubplot:xlabel='priority', ylabel='chance_of_eviction'>"
      ]
     },
     "execution_count": 115,
     "metadata": {},
     "output_type": "execute_result"
    },
    {
     "data": {
      "image/png": "[encoded data removed]",
      "text/plain": [
       "<Figure size 842.4x595.44 with 1 Axes>"
      ]
     },
     "metadata": {},
     "output_type": "display_data"
    }
   ],
   "source": [
    "pd_df_priority_eviction = df_priority_eviction.toPandas()\n",
    "sns.lineplot(x='priority',y = 'chance_of_eviction', data = pd_df_priority_eviction)"
   ]
  },
  {
   "cell_type": "code",
   "execution_count": null,
   "metadata": {},
   "outputs": [],
   "source": []
  }
 ],
 "metadata": {
  "kernelspec": {
   "display_name": "Python 3",
   "language": "python",
   "name": "python3"
  },
  "language_info": {
   "codemirror_mode": {
    "name": "ipython",
    "version": 3
   },
   "file_extension": ".py",
   "mimetype": "text/x-python",
   "name": "python",
   "nbconvert_exporter": "python",
   "pygments_lexer": "ipython3",
   "version": "3.8.6"
  }
 },
 "nbformat": 4,
 "nbformat_minor": 4
}
